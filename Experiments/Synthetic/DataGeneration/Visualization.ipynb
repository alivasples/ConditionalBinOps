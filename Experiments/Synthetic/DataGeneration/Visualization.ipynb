{
 "cells": [
  {
   "cell_type": "code",
   "execution_count": 1,
   "metadata": {},
   "outputs": [],
   "source": [
    "import matplotlib.pyplot as plt"
   ]
  },
  {
   "cell_type": "code",
   "execution_count": 2,
   "metadata": {},
   "outputs": [],
   "source": [
    "def castFloat(str):\n",
    "    return float(str.replace(',','.'))"
   ]
  },
  {
   "cell_type": "code",
   "execution_count": 3,
   "metadata": {},
   "outputs": [],
   "source": [
    "# Read a file and push the elements into a list\n",
    "def fileToList(fileName):\n",
    "    list = []\n",
    "    try:\n",
    "        file = open(fileName)\n",
    "        for line in file:\n",
    "            list.append(castFloat(line))\n",
    "        file.close()\n",
    "    except IOError:\n",
    "        errorMsg = fileName + ' could not be opened!'\n",
    "        print(errorMsg)\n",
    "    return list"
   ]
  },
  {
   "cell_type": "code",
   "execution_count": 4,
   "metadata": {},
   "outputs": [],
   "source": [
    "# Compute the average of a list elements\n",
    "def average(list):\n",
    "#     list.sort()\n",
    "#     # Remove all missing values\n",
    "#     while 0 in list:\n",
    "#         list.remove(0)\n",
    "#     # Validation of list size\n",
    "#     if len(list) <= 2: \n",
    "#         return 0\n",
    "#     if len(list) > 2:\n",
    "#         del list[0]\n",
    "#         del list[len(list)-1]\n",
    "    # computing the average\n",
    "    sum = 0\n",
    "    size = 0\n",
    "    for number in list:\n",
    "        if number > 0:\n",
    "            sum += number\n",
    "            size += 1\n",
    "    return 0 if size == 0 else sum/size"
   ]
  },
  {
   "cell_type": "code",
   "execution_count": 5,
   "metadata": {},
   "outputs": [],
   "source": [
    "# Compute the mean of a list elements\n",
    "def mean(list):\n",
    "    list.sort()\n",
    "    # Remove all missing values\n",
    "    while 0 in list:\n",
    "        list.remove(0)\n",
    "    # Validation of list size\n",
    "    if len(list) <= 2: return 0\n",
    "    if len(list) > 2:\n",
    "        del list[0]\n",
    "        del list[len(list)-1]\n",
    "    # computing the mean\n",
    "    sum = 0\n",
    "    for number in list:\n",
    "        sum += 1/number\n",
    "#     return list[0]\n",
    "#     return list[len(list)-1]\n",
    "#     return (list[0] + list[len(list)-1]) / 2\n",
    "    return len(list)/sum"
   ]
  },
  {
   "cell_type": "code",
   "execution_count": 6,
   "metadata": {},
   "outputs": [],
   "source": [
    "# Process a set of files\n",
    "def processTest(testFiles):\n",
    "    data = []\n",
    "    statistics = []\n",
    "    for testFile in testFiles:\n",
    "        data.append(fileToList(testFile))\n",
    "    for j in range(len(data[0])):\n",
    "        tuple = []\n",
    "        for i in range(len(data)):\n",
    "            tuple.append(data[i][j])\n",
    "        statistics.append(average(tuple))\n",
    "    return statistics"
   ]
  },
  {
   "cell_type": "code",
   "execution_count": 7,
   "metadata": {},
   "outputs": [],
   "source": [
    "# Group elements in list\n",
    "def toBuckets(data, bucketSize):\n",
    "    i = 0\n",
    "    sum = 0\n",
    "    bucketList = []\n",
    "    for element in data:\n",
    "        sum += element\n",
    "        i+=1\n",
    "        if i == bucketSize:\n",
    "            bucketList.append(sum/i)\n",
    "            i = 0\n",
    "            sum = 0\n",
    "    return bucketList"
   ]
  },
  {
   "cell_type": "code",
   "execution_count": 8,
   "metadata": {},
   "outputs": [],
   "source": [
    "# Print elements of list\n",
    "def printList(data):\n",
    "    for element in data:\n",
    "        if element != 0:\n",
    "            print(str(element).replace('.',','))\n",
    "        else:\n",
    "            print('null')"
   ]
  },
  {
   "cell_type": "code",
   "execution_count": 9,
   "metadata": {},
   "outputs": [],
   "source": [
    "# This method summarizes the 10 execution of a test\n",
    "def processTest(startTest, endTest, variation, typeAlg, nrCasesXVar, orderByValidG = False):\n",
    "    completeData = []\n",
    "    difs = 0\n",
    "    # Append nrCasesXVar empty lists\n",
    "#     for i in range(nrCasesXVar):\n",
    "#         completeData.append([])\n",
    "    # Store the averages of the cases\n",
    "    for currentTest in range(startTest, endTest):\n",
    "        for i in range(nrCasesXVar):\n",
    "            path = 'TESTS/TEST %d/%s/%d/%sTime'%(currentTest, variation, i+1, typeAlg)\n",
    "#             pathResult = 'TESTS/TEST %d/%s/%d/%s.result'%(currentTest, variation, i+1, typeAlg)\n",
    "            avg = average(fileToList(path))\n",
    "#             validG = average(fileToList(pathResult))\n",
    "#             # If order by valid groups\n",
    "#             if orderByValidG: \n",
    "#                 # Limit of tuples in set\n",
    "#                 if validG > 0 and validG <= 100:# and len(completeData[int(validG)-1]) < 50:\n",
    "#                     completeData[int(validG)-1].append(avg)\n",
    "#             # Default order\n",
    "#             else:\n",
    "            completeData.append(avg)\n",
    "    \n",
    "    return completeData\n",
    "    # Computing the statistics for every case\n",
    "#     statistics = []\n",
    "#     for tuple in completeData:\n",
    "# #         print('---->', len(tuple))\n",
    "#         statistics.append(average(tuple))\n",
    "            \n",
    "#     print(completeData)\n",
    "#     print(statistics)\n",
    "#     print(difs)\n",
    "#     return statistics\n",
    "    \n",
    "startTest = 1\n",
    "endTest = 2\n",
    "# processTest(startTest,endTest,'VarDividend','fts_all', 10)"
   ]
  },
  {
   "cell_type": "code",
   "execution_count": 10,
   "metadata": {},
   "outputs": [],
   "source": [
    "def findDifs(startTest, endTest, variation, typesAlg, nrCasesXVar, isDbg = False):\n",
    "    difs = 0\n",
    "    total = 0\n",
    "    # Store the averages of the cases\n",
    "    for currentTest in range(startTest, endTest):\n",
    "        for i in range(nrCasesXVar):\n",
    "            pathResult1 = 'TESTS/TEST %d/%s/%d/%s.result'%(currentTest, variation, i+1, typesAlg[0])\n",
    "            pathResult2 = 'TESTS/TEST %d/%s/%d/%s.result'%(currentTest, variation, i+1, typesAlg[1])\n",
    "            validG1 = average(fileToList(pathResult1))\n",
    "            validG2 = average(fileToList(pathResult2))\n",
    "            if validG1 != validG2:\n",
    "                if isDbg:\n",
    "                    print('Dif At TESTS/TEST %d/%s/%d: %d vs %d'%(currentTest, variation, i+1, validG1, validG2))\n",
    "                difs += 1\n",
    "            total += 1    \n",
    "    return difs, total\n",
    "    "
   ]
  },
  {
   "cell_type": "code",
   "execution_count": 11,
   "metadata": {},
   "outputs": [],
   "source": [
    "bucketSize = 1\n",
    "wantToPlot = False\n",
    "nr_steps = 10"
   ]
  },
  {
   "cell_type": "code",
   "execution_count": 12,
   "metadata": {},
   "outputs": [
    {
     "name": "stdout",
     "output_type": "stream",
     "text": [
      "TESTS/TEST 1/VarT1/1/FORALL.fts.result could not be opened!\n",
      "TESTS/TEST 1/VarT1/1/FORALL.index.result could not be opened!\n",
      "TESTS/TEST 1/VarT1/2/FORALL.fts.result could not be opened!\n",
      "TESTS/TEST 1/VarT1/2/FORALL.index.result could not be opened!\n",
      "TESTS/TEST 1/VarT1/3/FORALL.fts.result could not be opened!\n",
      "TESTS/TEST 1/VarT1/3/FORALL.index.result could not be opened!\n",
      "TESTS/TEST 1/VarT1/4/FORALL.fts.result could not be opened!\n",
      "TESTS/TEST 1/VarT1/4/FORALL.index.result could not be opened!\n",
      "TESTS/TEST 1/VarT1/5/FORALL.fts.result could not be opened!\n",
      "TESTS/TEST 1/VarT1/5/FORALL.index.result could not be opened!\n",
      "TESTS/TEST 1/VarT1/6/FORALL.fts.result could not be opened!\n",
      "TESTS/TEST 1/VarT1/6/FORALL.index.result could not be opened!\n",
      "TESTS/TEST 1/VarT1/7/FORALL.fts.result could not be opened!\n",
      "TESTS/TEST 1/VarT1/7/FORALL.index.result could not be opened!\n",
      "TESTS/TEST 1/VarT1/8/FORALL.fts.result could not be opened!\n",
      "TESTS/TEST 1/VarT1/8/FORALL.index.result could not be opened!\n",
      "TESTS/TEST 1/VarT1/9/FORALL.fts.result could not be opened!\n",
      "TESTS/TEST 1/VarT1/9/FORALL.index.result could not be opened!\n",
      "TESTS/TEST 1/VarT1/10/FORALL.fts.result could not be opened!\n",
      "TESTS/TEST 1/VarT1/10/FORALL.index.result could not be opened!\n"
     ]
    },
    {
     "data": {
      "text/plain": [
       "(0, 10)"
      ]
     },
     "execution_count": 12,
     "metadata": {},
     "output_type": "execute_result"
    }
   ],
   "source": [
    "findDifs(startTest,endTest,'VarT1',['FORALL.fts', 'FORALL.index'], nr_steps, True)"
   ]
  },
  {
   "cell_type": "code",
   "execution_count": 13,
   "metadata": {},
   "outputs": [
    {
     "name": "stdout",
     "output_type": "stream",
     "text": [
      "0,7577707\n",
      "1,4995880000000004\n",
      "2,2580749999999994\n",
      "3,0070040000000002\n",
      "3,7497620000000005\n",
      "4,50036\n",
      "5,28295\n",
      "5,982263\n",
      "6,719595\n",
      "7,503350999999999\n"
     ]
    }
   ],
   "source": [
    "result = processTest(startTest,endTest,'VarT1','FORALL.fts', nr_steps)\n",
    "result = toBuckets(result, bucketSize)\n",
    "if wantToPlot:\n",
    "    plt.plot(result)\n",
    "else:\n",
    "    printList(result)"
   ]
  },
  {
   "cell_type": "code",
   "execution_count": 14,
   "metadata": {},
   "outputs": [
    {
     "name": "stdout",
     "output_type": "stream",
     "text": [
      "0,7493055999999999\n",
      "1,495731\n",
      "2,2520759999999997\n",
      "2,998952\n",
      "3,750569\n",
      "4,501822\n",
      "5,262074\n",
      "5,9815190000000005\n",
      "6,748232999999999\n",
      "7,497669\n"
     ]
    }
   ],
   "source": [
    "result = processTest(startTest,endTest,'VarT1','FORANY.fts', nr_steps)\n",
    "result = toBuckets(result, bucketSize)\n",
    "if wantToPlot:\n",
    "    plt.plot(result)\n",
    "else:\n",
    "    printList(result)"
   ]
  },
  {
   "cell_type": "code",
   "execution_count": 15,
   "metadata": {},
   "outputs": [
    {
     "name": "stdout",
     "output_type": "stream",
     "text": [
      "0,016240300000000003\n",
      "0,0315191\n",
      "0,044513399999999995\n",
      "0,0576302\n",
      "0,0808114\n",
      "0,1015466\n",
      "0,10452589999999999\n",
      "0,1298481\n",
      "0,1363099\n",
      "0,1430205\n"
     ]
    }
   ],
   "source": [
    "result = processTest(startTest,endTest,'VarT1','FORALL.index', nr_steps)\n",
    "result = toBuckets(result, bucketSize)\n",
    "if wantToPlot:\n",
    "    plt.plot(result)\n",
    "else:\n",
    "    printList(result)"
   ]
  },
  {
   "cell_type": "code",
   "execution_count": 16,
   "metadata": {},
   "outputs": [
    {
     "name": "stdout",
     "output_type": "stream",
     "text": [
      "0,0165335\n",
      "0,0321047\n",
      "0,043157999999999995\n",
      "0,0573791\n",
      "0,0815654\n",
      "0,103044\n",
      "0,1032526\n",
      "0,1298058\n",
      "0,13575749999999998\n",
      "0,14377850000000003\n"
     ]
    }
   ],
   "source": [
    "result = processTest(startTest,endTest,'VarT1','FORANY.index', nr_steps)\n",
    "result = toBuckets(result, bucketSize)\n",
    "if wantToPlot:\n",
    "    plt.plot(result)\n",
    "else:\n",
    "    printList(result)"
   ]
  },
  {
   "cell_type": "code",
   "execution_count": 17,
   "metadata": {},
   "outputs": [
    {
     "name": "stdout",
     "output_type": "stream",
     "text": [
      "0,7489953\n",
      "1,491631\n",
      "2,231544\n",
      "2,967183\n",
      "3,7338099999999996\n",
      "4,483625000000001\n",
      "5,218007\n",
      "5,9375860000000005\n",
      "6,674280999999999\n",
      "7,437671\n"
     ]
    }
   ],
   "source": [
    "result = processTest(startTest,endTest,'VarT2','FORALL.fts', nr_steps)\n",
    "result = toBuckets(result, bucketSize)\n",
    "if wantToPlot:\n",
    "    plt.plot(result)\n",
    "else:\n",
    "    printList(result)"
   ]
  },
  {
   "cell_type": "code",
   "execution_count": 18,
   "metadata": {},
   "outputs": [
    {
     "name": "stdout",
     "output_type": "stream",
     "text": [
      "0,7583811\n",
      "1,496076\n",
      "2,232631\n",
      "2,9759649999999995\n",
      "3,712937\n",
      "4,493361\n",
      "5,201235\n",
      "5,920242999999999\n",
      "6,677118000000002\n",
      "7,455006\n"
     ]
    }
   ],
   "source": [
    "result = processTest(startTest,endTest,'VarT2','FORANY.fts', nr_steps)\n",
    "result = toBuckets(result, bucketSize)\n",
    "if wantToPlot:\n",
    "    plt.plot(result)\n",
    "else:\n",
    "    printList(result)"
   ]
  },
  {
   "cell_type": "code",
   "execution_count": 19,
   "metadata": {},
   "outputs": [
    {
     "name": "stdout",
     "output_type": "stream",
     "text": [
      "0,0148293\n",
      "0,030711\n",
      "0,04583059999999999\n",
      "0,058271\n",
      "0,07747069999999999\n",
      "0,08994260000000001\n",
      "0,10800380000000001\n",
      "0,1219419\n",
      "0,1364727\n",
      "0,1488947\n"
     ]
    }
   ],
   "source": [
    "result = processTest(startTest,endTest,'VarT2','FORALL.index', nr_steps)\n",
    "result = toBuckets(result, bucketSize)\n",
    "if wantToPlot:\n",
    "    plt.plot(result)\n",
    "else:\n",
    "    printList(result)"
   ]
  },
  {
   "cell_type": "code",
   "execution_count": 20,
   "metadata": {},
   "outputs": [
    {
     "name": "stdout",
     "output_type": "stream",
     "text": [
      "0,0143621\n",
      "0,029559199999999997\n",
      "0,04454030000000001\n",
      "0,0584592\n",
      "0,07602450000000001\n",
      "0,09065399999999998\n",
      "0,10670779999999999\n",
      "0,12239559999999998\n",
      "0,1346114\n",
      "0,14667820000000004\n"
     ]
    }
   ],
   "source": [
    "result = processTest(startTest,endTest,'VarT2','FORANY.index', nr_steps)\n",
    "result = toBuckets(result, bucketSize)\n",
    "if wantToPlot:\n",
    "    plt.plot(result)\n",
    "else:\n",
    "    printList(result)"
   ]
  },
  {
   "cell_type": "code",
   "execution_count": 21,
   "metadata": {},
   "outputs": [
    {
     "name": "stdout",
     "output_type": "stream",
     "text": [
      "0,7430843\n",
      "0,7577081\n",
      "0,7494078\n",
      "0,7486886\n",
      "0,7478892\n",
      "0,7530232\n",
      "0,757058\n",
      "0,7517431\n",
      "0,7563702999999998\n",
      "0,7496929000000001\n"
     ]
    }
   ],
   "source": [
    "result = processTest(startTest,endTest,'VarTG','FORALL.fts', nr_steps)\n",
    "result = toBuckets(result, bucketSize)\n",
    "if wantToPlot:\n",
    "    plt.plot(result)\n",
    "else:\n",
    "    printList(result)"
   ]
  },
  {
   "cell_type": "code",
   "execution_count": 22,
   "metadata": {},
   "outputs": [
    {
     "name": "stdout",
     "output_type": "stream",
     "text": [
      "0,7535557000000002\n",
      "0,7493508999999999\n",
      "0,758263\n",
      "0,7504290000000001\n",
      "0,7662676\n",
      "0,7462895\n",
      "0,7565518000000001\n",
      "0,7468762\n",
      "0,762383\n",
      "0,7509225999999999\n"
     ]
    }
   ],
   "source": [
    "result = processTest(startTest,endTest,'VarTG','FORANY.fts', nr_steps)\n",
    "result = toBuckets(result, bucketSize)\n",
    "if wantToPlot:\n",
    "    plt.plot(result)\n",
    "else:\n",
    "    printList(result)"
   ]
  },
  {
   "cell_type": "code",
   "execution_count": 23,
   "metadata": {},
   "outputs": [
    {
     "name": "stdout",
     "output_type": "stream",
     "text": [
      "0,0167626\n",
      "0,017361099999999997\n",
      "0,014930100000000002\n",
      "0,0156052\n",
      "0,015746899999999998\n",
      "0,0159008\n",
      "0,0162302\n",
      "0,014463100000000001\n",
      "0,0161455\n",
      "0,0138906\n"
     ]
    }
   ],
   "source": [
    "result = processTest(startTest,endTest,'VarTG','FORALL.index', nr_steps)\n",
    "result = toBuckets(result, bucketSize)\n",
    "if wantToPlot:\n",
    "    plt.plot(result)\n",
    "else:\n",
    "    printList(result)"
   ]
  },
  {
   "cell_type": "code",
   "execution_count": 24,
   "metadata": {},
   "outputs": [
    {
     "name": "stdout",
     "output_type": "stream",
     "text": [
      "0,016832999999999997\n",
      "0,0170008\n",
      "0,014669100000000001\n",
      "0,015566299999999996\n",
      "0,016270700000000003\n",
      "0,016561400000000004\n",
      "0,0164912\n",
      "0,0148004\n",
      "0,0160581\n",
      "0,013973199999999996\n"
     ]
    }
   ],
   "source": [
    "result = processTest(startTest,endTest,'VarTG','FORANY.index', nr_steps)\n",
    "result = toBuckets(result, bucketSize)\n",
    "if wantToPlot:\n",
    "    plt.plot(result)\n",
    "else:\n",
    "    printList(result)"
   ]
  },
  {
   "cell_type": "code",
   "execution_count": 25,
   "metadata": {},
   "outputs": [
    {
     "name": "stdout",
     "output_type": "stream",
     "text": [
      "0,45679289999999995\n",
      "1,042954\n",
      "1,6416730000000002\n",
      "2,2194\n",
      "2,811059\n",
      "3,4036679999999997\n",
      "4,002373\n",
      "4,818469\n",
      "5,194635\n",
      "5,873675999999999\n"
     ]
    }
   ],
   "source": [
    "result = processTest(startTest,endTest,'VarL1L2','FORALL.fts', nr_steps)\n",
    "result = toBuckets(result, bucketSize)\n",
    "if wantToPlot:\n",
    "    plt.plot(result)\n",
    "else:\n",
    "    printList(result)"
   ]
  },
  {
   "cell_type": "code",
   "execution_count": 26,
   "metadata": {},
   "outputs": [
    {
     "name": "stdout",
     "output_type": "stream",
     "text": [
      "0,4616478\n",
      "1,0423319999999998\n",
      "1,635919\n",
      "2,2297049999999996\n",
      "2,8023930000000004\n",
      "3,4073219999999997\n",
      "3,980047\n",
      "4,591182\n",
      "5,181116000000001\n",
      "5,845651\n"
     ]
    }
   ],
   "source": [
    "result = processTest(startTest,endTest,'VarL1L2','FORANY.fts', nr_steps)\n",
    "result = toBuckets(result, bucketSize)\n",
    "if wantToPlot:\n",
    "    plt.plot(result)\n",
    "else:\n",
    "    printList(result)"
   ]
  },
  {
   "cell_type": "code",
   "execution_count": 27,
   "metadata": {},
   "outputs": [
    {
     "name": "stdout",
     "output_type": "stream",
     "text": [
      "0,0123544\n",
      "0,0210176\n",
      "0,0250008\n",
      "0,034765\n",
      "0,0452238\n",
      "0,0461458\n",
      "0,059224599999999995\n",
      "0,06449750000000001\n",
      "0,074014\n",
      "0,0808933\n"
     ]
    }
   ],
   "source": [
    "result = processTest(startTest,endTest,'VarL1L2','FORALL.index', nr_steps)\n",
    "result = toBuckets(result, bucketSize)\n",
    "if wantToPlot:\n",
    "    plt.plot(result)\n",
    "else:\n",
    "    printList(result)"
   ]
  },
  {
   "cell_type": "code",
   "execution_count": 28,
   "metadata": {},
   "outputs": [
    {
     "name": "stdout",
     "output_type": "stream",
     "text": [
      "0,0126145\n",
      "0,020881900000000002\n",
      "0,0250347\n",
      "0,035880800000000004\n",
      "0,044456099999999985\n",
      "0,04569070000000001\n",
      "0,0598239\n",
      "0,0666386\n",
      "0,07571059999999999\n",
      "0,0836406\n"
     ]
    }
   ],
   "source": [
    "result = processTest(startTest,endTest,'VarL1L2','FORANY.index', nr_steps)\n",
    "result = toBuckets(result, bucketSize)\n",
    "if wantToPlot:\n",
    "    plt.plot(result)\n",
    "else:\n",
    "    printList(result)"
   ]
  },
  {
   "cell_type": "code",
   "execution_count": 29,
   "metadata": {},
   "outputs": [
    {
     "name": "stdout",
     "output_type": "stream",
     "text": [
      "0,7559167\n",
      "0,7585531\n",
      "0,7573327000000001\n",
      "0,7594568\n",
      "0,7545412\n",
      "0,7622861999999999\n",
      "0,7544002\n",
      "0,7530876999999999\n",
      "0,7528684\n",
      "0,7525451000000001\n",
      "\n",
      "0,7475615999999999\n",
      "0,7546459000000001\n",
      "0,7499022\n",
      "0,7509976\n",
      "0,7532536999999999\n",
      "0,7457104000000001\n",
      "0,7527878\n",
      "0,7495952000000001\n",
      "0,7589239000000001\n",
      "0,7509965\n",
      "\n",
      "0,7476141000000001\n",
      "0,7523245000000001\n",
      "0,7520273\n",
      "0,7562070999999999\n",
      "0,7547892\n",
      "0,7465899\n",
      "0,7567197999999999\n",
      "0,7549184\n",
      "0,7614097\n",
      "0,7516293000000001\n"
     ]
    }
   ],
   "source": [
    "result = processTest(startTest,endTest,'VarDistribution','FORALL.fts', nr_steps*3)\n",
    "result = toBuckets(result, bucketSize)\n",
    "if wantToPlot:\n",
    "    plt.plot(result)\n",
    "else:\n",
    "    printList(result[:nr_steps])\n",
    "    print()\n",
    "    printList(result[nr_steps:nr_steps*2])\n",
    "    print()\n",
    "    printList(result[nr_steps*2:])"
   ]
  },
  {
   "cell_type": "code",
   "execution_count": 30,
   "metadata": {},
   "outputs": [
    {
     "name": "stdout",
     "output_type": "stream",
     "text": [
      "0,7573146000000001\n",
      "0,757935\n",
      "0,7658943999999999\n",
      "0,7779797999999999\n",
      "0,7525909\n",
      "0,7610630999999999\n",
      "0,7529132\n",
      "0,7564871000000001\n",
      "0,7558905\n",
      "0,7528616\n",
      "\n",
      "0,7638138\n",
      "0,7575201\n",
      "0,7602826\n",
      "0,7526326999999998\n",
      "0,7555731\n",
      "0,74471\n",
      "0,7512129\n",
      "0,7460866000000002\n",
      "0,7544697\n",
      "0,7503753999999999\n",
      "\n",
      "0,7492894\n",
      "0,7504328000000001\n",
      "0,7498060999999999\n",
      "0,7496803\n",
      "0,7563283\n",
      "0,7581306999999999\n",
      "0,7529345\n",
      "0,7514639\n",
      "0,7515929\n",
      "0,7524443\n"
     ]
    }
   ],
   "source": [
    "result = processTest(startTest,endTest,'VarDistribution','FORANY.fts', nr_steps*3)\n",
    "result = toBuckets(result, bucketSize)\n",
    "if wantToPlot:\n",
    "    plt.plot(result)\n",
    "else:\n",
    "    printList(result[:nr_steps])\n",
    "    print()\n",
    "    printList(result[nr_steps:nr_steps*2])\n",
    "    print()\n",
    "    printList(result[nr_steps*2:])"
   ]
  },
  {
   "cell_type": "code",
   "execution_count": 31,
   "metadata": {},
   "outputs": [
    {
     "name": "stdout",
     "output_type": "stream",
     "text": [
      "0,0153562\n",
      "0,015627399999999996\n",
      "0,0167767\n",
      "0,014871900000000002\n",
      "0,016321199999999998\n",
      "0,015322699999999998\n",
      "0,0165912\n",
      "0,0160896\n",
      "0,0152651\n",
      "0,016312399999999998\n",
      "\n",
      "0,014706\n",
      "0,0150175\n",
      "0,0173001\n",
      "0,014032300000000001\n",
      "0,0148168\n",
      "0,018227300000000002\n",
      "0,015570499999999998\n",
      "0,015121599999999995\n",
      "0,0157778\n",
      "0,014576\n",
      "\n",
      "0,0158254\n",
      "0,0168507\n",
      "0,0160211\n",
      "0,015053200000000003\n",
      "0,0174646\n",
      "0,0133347\n",
      "0,0164962\n",
      "0,0156697\n",
      "0,016165000000000002\n",
      "0,0147897\n"
     ]
    }
   ],
   "source": [
    "result = processTest(startTest,endTest,'VarDistribution','FORALL.index', nr_steps*3)\n",
    "result = toBuckets(result, bucketSize)\n",
    "if wantToPlot:\n",
    "    plt.plot(result)\n",
    "else:\n",
    "    printList(result[:nr_steps])\n",
    "    print()\n",
    "    printList(result[nr_steps:nr_steps*2])\n",
    "    print()\n",
    "    printList(result[nr_steps*2:])"
   ]
  },
  {
   "cell_type": "code",
   "execution_count": 32,
   "metadata": {},
   "outputs": [
    {
     "name": "stdout",
     "output_type": "stream",
     "text": [
      "0,015366600000000003\n",
      "0,015548600000000001\n",
      "0,0165559\n",
      "0,0151868\n",
      "0,0163846\n",
      "0,015034800000000001\n",
      "0,016595600000000002\n",
      "0,0157605\n",
      "0,015171899999999997\n",
      "0,016191099999999996\n",
      "\n",
      "0,0147146\n",
      "0,0158337\n",
      "0,017431\n",
      "0,014145599999999998\n",
      "0,014711700000000003\n",
      "0,0177864\n",
      "0,016037199999999998\n",
      "0,015629999999999998\n",
      "0,0160581\n",
      "0,014238200000000001\n",
      "\n",
      "0,015854000000000004\n",
      "0,0172048\n",
      "0,015871299999999998\n",
      "0,014697100000000001\n",
      "0,0166115\n",
      "0,013784399999999999\n",
      "0,016830599999999998\n",
      "0,0162641\n",
      "0,015711700000000002\n",
      "0,014466799999999998\n"
     ]
    }
   ],
   "source": [
    "result = processTest(startTest,endTest,'VarDistribution','FORANY.index', nr_steps*3)\n",
    "result = toBuckets(result, bucketSize)\n",
    "if wantToPlot:\n",
    "    plt.plot(result)\n",
    "else:\n",
    "    printList(result[:nr_steps])\n",
    "    print()\n",
    "    printList(result[nr_steps:nr_steps*2])\n",
    "    print()\n",
    "    printList(result[nr_steps*2:])"
   ]
  },
  {
   "cell_type": "code",
   "execution_count": 33,
   "metadata": {},
   "outputs": [
    {
     "name": "stdout",
     "output_type": "stream",
     "text": [
      "0,7851911999999999\n",
      "0,778624\n",
      "0,7967399000000001\n",
      "0,7804398\n",
      "0,756556\n",
      "0,7614042999999999\n",
      "0,7957119\n",
      "0,7622978\n",
      "0,7508406000000001\n",
      "0,7524017\n",
      "0,7654130999999998\n"
     ]
    }
   ],
   "source": [
    "result = processTest(startTest,endTest,'VarValidGroupsForAll','FORALL.fts', nr_steps + 1, True)\n",
    "result = toBuckets(result, bucketSize)\n",
    "if wantToPlot:\n",
    "    plt.plot(result)\n",
    "else:\n",
    "    printList(result)"
   ]
  },
  {
   "cell_type": "code",
   "execution_count": 34,
   "metadata": {},
   "outputs": [
    {
     "name": "stdout",
     "output_type": "stream",
     "text": [
      "0,750082\n",
      "0,7479535\n",
      "0,7517012999999999\n",
      "0,7544061000000001\n",
      "0,7549854999999999\n",
      "0,7523056\n",
      "0,7570614000000001\n",
      "0,7809062999999998\n",
      "0,7620986000000001\n",
      "0,7595396\n",
      "0,7566903999999999\n"
     ]
    }
   ],
   "source": [
    "result = processTest(startTest,endTest,'VarValidGroupsForAny','FORANY.fts', nr_steps + 1, True)\n",
    "result = toBuckets(result, bucketSize)\n",
    "if wantToPlot:\n",
    "    plt.plot(result)\n",
    "else:\n",
    "    printList(result)"
   ]
  },
  {
   "cell_type": "code",
   "execution_count": 35,
   "metadata": {},
   "outputs": [
    {
     "name": "stdout",
     "output_type": "stream",
     "text": [
      "0,015918500000000002\n",
      "0,0152021\n",
      "0,016759200000000002\n",
      "0,0158852\n",
      "0,014491399999999998\n",
      "0,0173367\n",
      "0,0150258\n",
      "0,014066600000000002\n",
      "0,0166878\n",
      "0,017414400000000003\n",
      "0,0170374\n"
     ]
    }
   ],
   "source": [
    "result = processTest(startTest,endTest,'VarValidGroupsForAll','FORALL.index', nr_steps + 1, True)\n",
    "result = toBuckets(result, bucketSize)\n",
    "if wantToPlot:\n",
    "    plt.plot(result)\n",
    "else:\n",
    "    printList(result)"
   ]
  },
  {
   "cell_type": "code",
   "execution_count": 36,
   "metadata": {},
   "outputs": [
    {
     "name": "stdout",
     "output_type": "stream",
     "text": [
      "0,0169978\n",
      "0,0136519\n",
      "0,0130797\n",
      "0,015198900000000001\n",
      "0,0167262\n",
      "0,0154972\n",
      "0,0140451\n",
      "0,016382699999999997\n",
      "0,0176321\n",
      "0,014996899999999999\n",
      "0,015692199999999996\n"
     ]
    }
   ],
   "source": [
    "# startTest = 14\n",
    "# endTest = 15\n",
    "result = processTest(startTest,endTest,'VarValidGroupsForAny','FORANY.index', nr_steps + 1, True)\n",
    "result = toBuckets(result, bucketSize)\n",
    "if wantToPlot:\n",
    "    plt.plot(result)\n",
    "else:\n",
    "    printList(result)"
   ]
  },
  {
   "cell_type": "code",
   "execution_count": null,
   "metadata": {},
   "outputs": [],
   "source": []
  },
  {
   "cell_type": "code",
   "execution_count": null,
   "metadata": {},
   "outputs": [],
   "source": []
  }
 ],
 "metadata": {
  "kernelspec": {
   "display_name": "Python 3",
   "language": "python",
   "name": "python3"
  },
  "language_info": {
   "codemirror_mode": {
    "name": "ipython",
    "version": 3
   },
   "file_extension": ".py",
   "mimetype": "text/x-python",
   "name": "python",
   "nbconvert_exporter": "python",
   "pygments_lexer": "ipython3",
   "version": "3.7.10"
  }
 },
 "nbformat": 4,
 "nbformat_minor": 4
}
